{
 "cells": [
  {
   "cell_type": "code",
   "execution_count": null,
   "metadata": {},
   "outputs": [],
   "source": [
    "# Import libraries\n",
    "import numpy as np\n",
    "import cv2 as cv\n",
    "from matplotlib import pyplot as plot\n",
    "\n",
    "def show_image(title, image):\n",
    "    cv.namedWindow(title, cv.WINDOW_NORMAL)\n",
    "    cv.imshow(title, image)"
   ]
  },
  {
   "cell_type": "code",
   "execution_count": null,
   "metadata": {},
   "outputs": [],
   "source": [
    "# Dict with images_paths\n",
    "images_paths = {\n",
    "    \"normal\": \"images/Normal.jpg\",\n",
    "    \"21h\": \"images/21h.jpg\",\n",
    "    \"29h\": \"images/29h.jpg\",\n",
    "    \"44h\": \"images/44h.jpg\",\n",
    "    \"53h\": \"images/53h.jpg\",\n",
    "    \"73h\": \"images/73h.jpg\",\n",
    "    \"96h\": \"images/96h.jpg\",\n",
    "}\n",
    "\n",
    "# Dict with all BGR images from OpenCV\n",
    "images = {\n",
    "    key: cv.imread(path) for [key, path] in images_paths.items()\n",
    "}"
   ]
  },
  {
   "cell_type": "code",
   "execution_count": null,
   "metadata": {},
   "outputs": [],
   "source": [
    "''' Conversão da imagem em cores para escala de cinza '''\n",
    "normal_gray = cv.cvtColor(images['normal'], cv.COLOR_BGR2GRAY)\n",
    "\n",
    "''' \n",
    "    Aplicando o limiar sobre os valores 255 (branco) que estão em volta da borda da placa\n",
    "    Isso deixa em destaque o conteúdo da placa\n",
    "    A borda da placa é preta, portanto ao realizar o limiar ela se inclui na visualização do limiar\n",
    "'''\n",
    "_, inverted = cv.threshold(normal_gray, 254, 255, cv.THRESH_BINARY_INV)\n",
    "\n",
    "'''\n",
    "    Ao realizar o limiar, geramos alguns ruídos dentro da placa\n",
    "    Para remover o ruído, aplicamos a operação de Fechamento para remover os pontos pretos de dentro da placa\n",
    "'''\n",
    "dilate_kernel = np.ones((15, 15), np.uint8)\n",
    "inverted_closed = cv.morphologyEx(inverted, cv.MORPH_CLOSE, dilate_kernel)\n",
    "\n",
    "''' Realizamos a interseção entre a imagem com destaque '''\n",
    "normal_merged = cv.bitwise_and(inverted_closed, normal_gray)\n",
    "\n",
    "kernel_merged = np.ones((9, 9), np.uint8)\n",
    "merged_opened = cv.morphologyEx(normal_merged, cv.MORPH_OPEN, kernel_merged)\n",
    "\n",
    "show_image('Normal (Merged Aberta)', merged_opened)"
   ]
  },
  {
   "cell_type": "code",
   "execution_count": null,
   "metadata": {},
   "outputs": [],
   "source": [
    "cv.waitKey(0)\n",
    "cv.destroyAllWindows()"
   ]
  }
 ],
 "metadata": {
  "kernelspec": {
   "display_name": "Python 3",
   "language": "python",
   "name": "python3"
  },
  "language_info": {
   "name": "python",
   "version": "3.12.3"
  }
 },
 "nbformat": 4,
 "nbformat_minor": 2
}
